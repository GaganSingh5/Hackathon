{
 "cells": [
  {
   "cell_type": "code",
   "execution_count": null,
   "metadata": {
    "collapsed": true
   },
   "outputs": [],
   "source": [
    "from pandas import DataFrame, read_csv\n",
    "import matplotlib.pyplot as plot\n",
    "import pandas as pd\n",
    "import sys\n",
    "import matplotlib\n",
    "from bs4 import BeautifulSoup\n",
    "import requests\n",
    "\n",
    "response = requests.get(\"https://www.imdb.com/india/top-rated-indian-movies/?sort=us,asc&mode=simple&page=1\")\n",
    "soup = BeautifulSoup(response.text, \"html.parser\")\n",
    "movies = []\n",
    "\n",
    "tdTags = soup.find_all(\"span\", class_=\"secondaryInfo\")\n",
    "for tag in tdTags:\n",
    "    print(tag.text)\n",
    "    #year = tag.text\n",
    "    temp = int(tag.text[1:5])\n",
    "    movies.append(temp)\n",
    "    #print(\"******************\")\n",
    "\n",
    "\n",
    "response = requests.get(\"https://www.imdb.com/india/top-rated-indian-movies/?sort=us,asc&mode=simple&page=1\")\n",
    "soup = BeautifulSoup(response.text, \"html.parser\")\n",
    "ratings = []\n",
    "tdTags = soup.find_all(\"td\", class_=\"ratingColumn\")\n",
    "for tag in tdTags:\n",
    "    sTag = tag.find(\"strong\")\n",
    "    if sTag is not None:\n",
    "        print(sTag.text)\n",
    "        ratings.append(sTag.text)\n",
    "    #print(\"******************\")\n",
    "\n",
    "# dataset = list(zip(movies, ratings))\n",
    "#\n",
    "# point = [1,2,3,4,5,6,7,8,9,10]\n",
    "#\n",
    "# df = DataFrame(data=dataset, columns=[\"years\", \"rating\"])\n",
    "#plot.yticks([6,6.5,7,7.5,8,8.5,9,9.5,10])\n",
    "plot.plot(movies, ratings)\n",
    "plot.axvline\n",
    "plot.title('Data')\n",
    "#plot.axis([1950, 2020, 1, 10])\n",
    "\n",
    "# plot.ylabel('rating')\n",
    "# plot.xlabel('years')\n",
    "plot.show()\n",
    "#"
   ]
  }
 ],
 "metadata": {
  "kernelspec": {
   "display_name": "Python 2",
   "language": "python",
   "name": "python2"
  },
  "language_info": {
   "codemirror_mode": {
    "name": "ipython",
    "version": 2
   },
   "file_extension": ".py",
   "mimetype": "text/x-python",
   "name": "python",
   "nbconvert_exporter": "python",
   "pygments_lexer": "ipython2",
   "version": "2.7.6"
  }
 },
 "nbformat": 4,
 "nbformat_minor": 0
}
